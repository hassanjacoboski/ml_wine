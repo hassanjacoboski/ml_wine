{
 "cells": [
  {
   "cell_type": "code",
   "execution_count": 1,
   "metadata": {},
   "outputs": [],
   "source": [
    "import pandas as pd\n",
    "import numpy as np"
   ]
  },
  {
   "cell_type": "code",
   "execution_count": 2,
   "metadata": {},
   "outputs": [],
   "source": [
    "from time import time"
   ]
  },
  {
   "cell_type": "code",
   "execution_count": 3,
   "metadata": {},
   "outputs": [],
   "source": [
    "%matplotlib inline"
   ]
  },
  {
   "cell_type": "code",
   "execution_count": 4,
   "metadata": {},
   "outputs": [],
   "source": [
    "df_todos_vinhos = pd.read_csv('winequality.csv', sep=';')"
   ]
  },
  {
   "cell_type": "code",
   "execution_count": 6,
   "metadata": {},
   "outputs": [],
   "source": [
    "colunas = df_todos_vinhos.columns"
   ]
  },
  {
   "cell_type": "code",
   "execution_count": 7,
   "metadata": {},
   "outputs": [],
   "source": [
    "colunas = [x.replace(' ', '_') for x in colunas]"
   ]
  },
  {
   "cell_type": "code",
   "execution_count": 8,
   "metadata": {},
   "outputs": [],
   "source": [
    "df_todos_vinhos.columns = colunas"
   ]
  },
  {
   "cell_type": "code",
   "execution_count": 9,
   "metadata": {},
   "outputs": [],
   "source": [
    "def trat_alcohol(x):\n",
    "    try:\n",
    "        return float(x)\n",
    "    except:\n",
    "        return np.NaN"
   ]
  },
  {
   "cell_type": "markdown",
   "metadata": {},
   "source": [
    "Tratar a coluna alcohol para ser um float, e eliminar os que não puderam ser convertidos"
   ]
  },
  {
   "cell_type": "code",
   "execution_count": 10,
   "metadata": {},
   "outputs": [],
   "source": [
    "df_todos_vinhos['alcohol'] = df_todos_vinhos['alcohol'].apply(trat_alcohol)"
   ]
  },
  {
   "cell_type": "code",
   "execution_count": 11,
   "metadata": {},
   "outputs": [],
   "source": [
    "df_td = df_todos_vinhos.dropna()"
   ]
  },
  {
   "cell_type": "markdown",
   "metadata": {},
   "source": [
    "Adicionar coluna de classificação"
   ]
  },
  {
   "cell_type": "code",
   "execution_count": 12,
   "metadata": {},
   "outputs": [],
   "source": [
    "def add_class(x):\n",
    "    # entre 0 e 5 ruim\n",
    "    if x < 5:\n",
    "        return 0\n",
    "    # entre 5 e 7 médio\n",
    "    elif x < 7:\n",
    "        return 1\n",
    "    # maior igual a 7 = bom\n",
    "    else:\n",
    "        return 2"
   ]
  },
  {
   "cell_type": "code",
   "execution_count": 13,
   "metadata": {},
   "outputs": [
    {
     "name": "stderr",
     "output_type": "stream",
     "text": [
      "C:\\ProgramData\\Anaconda3\\lib\\site-packages\\ipykernel_launcher.py:1: SettingWithCopyWarning: \n",
      "A value is trying to be set on a copy of a slice from a DataFrame.\n",
      "Try using .loc[row_indexer,col_indexer] = value instead\n",
      "\n",
      "See the caveats in the documentation: http://pandas.pydata.org/pandas-docs/stable/indexing.html#indexing-view-versus-copy\n",
      "  \"\"\"Entry point for launching an IPython kernel.\n"
     ]
    }
   ],
   "source": [
    "df_td['class'] = df_td['quality'].apply(add_class)"
   ]
  },
  {
   "cell_type": "markdown",
   "metadata": {},
   "source": [
    "Converter a coluna do tipo de vinho para valor numérico: 0 = White e 1 = Red"
   ]
  },
  {
   "cell_type": "code",
   "execution_count": 14,
   "metadata": {},
   "outputs": [
    {
     "name": "stderr",
     "output_type": "stream",
     "text": [
      "C:\\ProgramData\\Anaconda3\\lib\\site-packages\\ipykernel_launcher.py:1: SettingWithCopyWarning: \n",
      "A value is trying to be set on a copy of a slice from a DataFrame.\n",
      "Try using .loc[row_indexer,col_indexer] = value instead\n",
      "\n",
      "See the caveats in the documentation: http://pandas.pydata.org/pandas-docs/stable/indexing.html#indexing-view-versus-copy\n",
      "  \"\"\"Entry point for launching an IPython kernel.\n"
     ]
    }
   ],
   "source": [
    "df_td['type'] = df_td['type'].apply(lambda x: 0 if x == 'White' else 1)"
   ]
  },
  {
   "cell_type": "code",
   "execution_count": 15,
   "metadata": {},
   "outputs": [],
   "source": [
    "df_out = df_td['class'].copy()"
   ]
  },
  {
   "cell_type": "code",
   "execution_count": 16,
   "metadata": {},
   "outputs": [],
   "source": [
    "df_val = df_td.drop(columns=['quality', 'class'], axis=1, ).copy()"
   ]
  },
  {
   "cell_type": "markdown",
   "metadata": {},
   "source": [
    "Criar DataFrames de treino e teste."
   ]
  },
  {
   "cell_type": "code",
   "execution_count": 17,
   "metadata": {},
   "outputs": [],
   "source": [
    "from sklearn.model_selection import train_test_split"
   ]
  },
  {
   "cell_type": "code",
   "execution_count": 18,
   "metadata": {},
   "outputs": [],
   "source": [
    "x_train, x_test, y_train, y_test = train_test_split(df_val, df_out, test_size=0.2)"
   ]
  },
  {
   "cell_type": "code",
   "execution_count": 19,
   "metadata": {},
   "outputs": [],
   "source": [
    "from sklearn.metrics import accuracy_score, fbeta_score"
   ]
  },
  {
   "cell_type": "code",
   "execution_count": 27,
   "metadata": {},
   "outputs": [],
   "source": [
    "def evaluate_model(model, sample_size, x_train, x_test, y_train, y_test):\n",
    "    retorno = {}\n",
    "    \n",
    "    # Treinar dados\n",
    "    op_start = time()\n",
    "    model = model.fit(x_train[:sample_size], y_train[:sample_size])\n",
    "    op_end = time()\n",
    "    \n",
    "    retorno['training_time'] = op_end - op_start\n",
    "    \n",
    "    # Prever o resultado de 15% dos valores usados no treino e nos valores de teste\n",
    "    _percent = int(sample_size * 0.15)\n",
    "    op_start = time()\n",
    "    pred_train = model.predict(x_train[:_percent])\n",
    "    pred_test = model.predict(x_test)\n",
    "    op_end = time()\n",
    "    \n",
    "    retorno['predicting_time'] = op_end - op_start\n",
    "    \n",
    "    # Verificar a acurácia das predições:\n",
    "    retorno['accuracy_train'] = accuracy_score(y_train[:_percent], pred_train)\n",
    "    retorno['accuracy_test'] = accuracy_score(y_test, pred_test)\n",
    "    \n",
    "    # Verificar o Fbeta das predições:\n",
    "    retorno['fbeta_train'] = fbeta_score(y_train[:_percent], pred_train, beta=0.5, average='micro')\n",
    "    retorno['fbeta_test'] = fbeta_score(y_test, pred_test, beta=0.5, average='micro')\n",
    "    \n",
    "    print(f'{model.__class__.__name__} treinou com {sample_size} dados de amostra.')\n",
    "    \n",
    "    return retorno"
   ]
  },
  {
   "cell_type": "markdown",
   "metadata": {},
   "source": [
    "Escolhi 3 modelos que possuem formas de prever classificações levando em conta variância e tendência de formas diferentes.\n",
    "Gauss process classifier, Neural Net, e Random forests."
   ]
  },
  {
   "cell_type": "code",
   "execution_count": 21,
   "metadata": {},
   "outputs": [],
   "source": [
    "from sklearn.gaussian_process import GaussianProcessClassifier\n",
    "from sklearn.neural_network import MLPClassifier\n",
    "from sklearn.ensemble import RandomForestClassifier\n",
    "from sklearn.gaussian_process.kernels import RBF"
   ]
  },
  {
   "cell_type": "code",
   "execution_count": 22,
   "metadata": {},
   "outputs": [],
   "source": [
    "modelo1 = GaussianProcessClassifier(kernel=(1.0 * RBF(1.0)))\n",
    "modelo2 = MLPClassifier()\n",
    "modelo3 = RandomForestClassifier()"
   ]
  },
  {
   "cell_type": "markdown",
   "metadata": {},
   "source": [
    "Dividir as amostras em 3 partes 5%, 25% e 100% dos valores de training"
   ]
  },
  {
   "cell_type": "code",
   "execution_count": 23,
   "metadata": {},
   "outputs": [],
   "source": [
    "sample5 = int(len(x_train) * 0.05)\n",
    "sample25 = int(len(x_train) * 0.25)\n",
    "sample100 = len(x_train)"
   ]
  },
  {
   "cell_type": "code",
   "execution_count": 30,
   "metadata": {},
   "outputs": [
    {
     "name": "stdout",
     "output_type": "stream",
     "text": [
      "GaussianProcessClassifier treinou com 258 dados de amostra.\n",
      "GaussianProcessClassifier treinou com 1291 dados de amostra.\n",
      "GaussianProcessClassifier treinou com 5165 dados de amostra.\n"
     ]
    },
    {
     "name": "stderr",
     "output_type": "stream",
     "text": [
      "C:\\ProgramData\\Anaconda3\\lib\\site-packages\\sklearn\\neural_network\\multilayer_perceptron.py:562: ConvergenceWarning: Stochastic Optimizer: Maximum iterations (200) reached and the optimization hasn't converged yet.\n",
      "  % self.max_iter, ConvergenceWarning)\n"
     ]
    },
    {
     "name": "stdout",
     "output_type": "stream",
     "text": [
      "MLPClassifier treinou com 258 dados de amostra.\n",
      "MLPClassifier treinou com 1291 dados de amostra.\n",
      "MLPClassifier treinou com 5165 dados de amostra.\n"
     ]
    },
    {
     "name": "stderr",
     "output_type": "stream",
     "text": [
      "C:\\ProgramData\\Anaconda3\\lib\\site-packages\\sklearn\\ensemble\\forest.py:248: FutureWarning: The default value of n_estimators will change from 10 in version 0.20 to 100 in 0.22.\n",
      "  \"10 in version 0.20 to 100 in 0.22.\", FutureWarning)\n"
     ]
    },
    {
     "name": "stdout",
     "output_type": "stream",
     "text": [
      "RandomForestClassifier treinou com 258 dados de amostra.\n",
      "RandomForestClassifier treinou com 1291 dados de amostra.\n",
      "RandomForestClassifier treinou com 5165 dados de amostra.\n",
      "{'GaussianProcessClassifier': [{'training_time': 2.1398603916168213, 'predicting_time': 0.07810735702514648, 'accuracy_train': 0.7894736842105263, 'accuracy_test': 0.7469040247678018, 'fbeta_train': 0.7894736842105263, 'fbeta_test': 0.7469040247678018}, {'training_time': 26.88429093360901, 'predicting_time': 0.8435487747192383, 'accuracy_train': 0.7305699481865285, 'accuracy_test': 0.7523219814241486, 'fbeta_train': 0.7305699481865285, 'fbeta_test': 0.7523219814241486}, {'training_time': 2937.434215784073, 'predicting_time': 17.935643911361694, 'accuracy_train': 0.7790697674418605, 'accuracy_test': 0.7755417956656346, 'fbeta_train': 0.7790697674418605, 'fbeta_test': 0.7755417956656346}], 'MLPClassifier': [{'training_time': 0.40615344047546387, 'predicting_time': 0.0, 'accuracy_train': 0.8157894736842105, 'accuracy_test': 0.7414860681114551, 'fbeta_train': 0.8157894736842105, 'fbeta_test': 0.7414860681114551}, {'training_time': 0.5155057907104492, 'predicting_time': 0.0, 'accuracy_train': 0.7461139896373057, 'accuracy_test': 0.7523219814241486, 'fbeta_train': 0.7461139896373056, 'fbeta_test': 0.7523219814241486}, {'training_time': 1.6714861392974854, 'predicting_time': 0.015615701675415039, 'accuracy_train': 0.7868217054263565, 'accuracy_test': 0.771671826625387, 'fbeta_train': 0.7868217054263565, 'fbeta_test': 0.771671826625387}], 'RandomForestClassifier': [{'training_time': 0.2030787467956543, 'predicting_time': 0.03167557716369629, 'accuracy_train': 1.0, 'accuracy_test': 0.7554179566563467, 'fbeta_train': 1.0, 'fbeta_test': 0.7554179566563467}, {'training_time': 0.030862092971801758, 'predicting_time': 0.0, 'accuracy_train': 0.9948186528497409, 'accuracy_test': 0.7678018575851393, 'fbeta_train': 0.9948186528497409, 'fbeta_test': 0.7678018575851393}, {'training_time': 0.07805395126342773, 'predicting_time': 0.015654563903808594, 'accuracy_train': 0.9896640826873385, 'accuracy_test': 0.8258513931888545, 'fbeta_train': 0.9896640826873385, 'fbeta_test': 0.8258513931888545}]}\n"
     ]
    }
   ],
   "source": [
    "testes = {}\n",
    "for md in [modelo1, modelo2, modelo3]:\n",
    "    md_name = md.__class__.__name__\n",
    "    testes[md_name] = []\n",
    "    for sm in [sample5, sample25, sample100]:\n",
    "        testes[md_name].append(evaluate_model(md, sm, x_train, x_test, y_train, y_test))\n",
    "        \n",
    "print(testes)"
   ]
  },
  {
   "cell_type": "code",
   "execution_count": 37,
   "metadata": {},
   "outputs": [
    {
     "data": {
      "text/plain": [
       "[{'train_time': 2.1398603916168213,\n",
       "  'pred_time': 0.07810735702514648,\n",
       "  'acc_train': 0.7894736842105263,\n",
       "  'acc_test': 0.7469040247678018,\n",
       "  'f_train': 0.7894736842105263,\n",
       "  'f_test': 0.7469040247678018},\n",
       " {'train_time': 26.88429093360901,\n",
       "  'pred_time': 0.8435487747192383,\n",
       "  'acc_train': 0.7305699481865285,\n",
       "  'acc_test': 0.7523219814241486,\n",
       "  'f_train': 0.7305699481865285,\n",
       "  'f_test': 0.7523219814241486},\n",
       " {'train_time': 2937.434215784073,\n",
       "  'pred_time': 17.935643911361694,\n",
       "  'acc_train': 0.7790697674418605,\n",
       "  'acc_test': 0.7755417956656346,\n",
       "  'f_train': 0.7790697674418605,\n",
       "  'f_test': 0.7755417956656346}]"
      ]
     },
     "execution_count": 37,
     "metadata": {},
     "output_type": "execute_result"
    }
   ],
   "source": [
    "testes['GaussianProcessClassifier']"
   ]
  },
  {
   "cell_type": "code",
   "execution_count": 38,
   "metadata": {},
   "outputs": [
    {
     "data": {
      "text/plain": [
       "[{'train_time': 0.40615344047546387,\n",
       "  'pred_time': 0.0,\n",
       "  'acc_train': 0.8157894736842105,\n",
       "  'acc_test': 0.7414860681114551,\n",
       "  'f_train': 0.8157894736842105,\n",
       "  'f_test': 0.7414860681114551},\n",
       " {'train_time': 0.5155057907104492,\n",
       "  'pred_time': 0.0,\n",
       "  'acc_train': 0.7461139896373057,\n",
       "  'acc_test': 0.7523219814241486,\n",
       "  'f_train': 0.7461139896373056,\n",
       "  'f_test': 0.7523219814241486},\n",
       " {'train_time': 1.6714861392974854,\n",
       "  'pred_time': 0.015615701675415039,\n",
       "  'acc_train': 0.7868217054263565,\n",
       "  'acc_test': 0.771671826625387,\n",
       "  'f_train': 0.7868217054263565,\n",
       "  'f_test': 0.771671826625387}]"
      ]
     },
     "execution_count": 38,
     "metadata": {},
     "output_type": "execute_result"
    }
   ],
   "source": [
    "testes['MLPClassifier']"
   ]
  },
  {
   "cell_type": "code",
   "execution_count": 39,
   "metadata": {},
   "outputs": [
    {
     "data": {
      "text/plain": [
       "[{'train_time': 0.2030787467956543,\n",
       "  'pred_time': 0.03167557716369629,\n",
       "  'acc_train': 1.0,\n",
       "  'acc_test': 0.7554179566563467,\n",
       "  'f_train': 1.0,\n",
       "  'f_test': 0.7554179566563467},\n",
       " {'train_time': 0.030862092971801758,\n",
       "  'pred_time': 0.0,\n",
       "  'acc_train': 0.9948186528497409,\n",
       "  'acc_test': 0.7678018575851393,\n",
       "  'f_train': 0.9948186528497409,\n",
       "  'f_test': 0.7678018575851393},\n",
       " {'train_time': 0.07805395126342773,\n",
       "  'pred_time': 0.015654563903808594,\n",
       "  'acc_train': 0.9896640826873385,\n",
       "  'acc_test': 0.8258513931888545,\n",
       "  'f_train': 0.9896640826873385,\n",
       "  'f_test': 0.8258513931888545}]"
      ]
     },
     "execution_count": 39,
     "metadata": {},
     "output_type": "execute_result"
    }
   ],
   "source": [
    "testes['RandomForestClassifier']"
   ]
  },
  {
   "cell_type": "code",
   "execution_count": 41,
   "metadata": {},
   "outputs": [
    {
     "data": {
      "text/plain": [
       "array([0.00463526, 0.07338717, 0.09219737, 0.07078887, 0.08427217,\n",
       "       0.08467816, 0.08236391, 0.08507775, 0.10590499, 0.084148  ,\n",
       "       0.08452304, 0.14802331])"
      ]
     },
     "execution_count": 41,
     "metadata": {},
     "output_type": "execute_result"
    }
   ],
   "source": [
    "modelo3.feature_importances_"
   ]
  },
  {
   "cell_type": "code",
   "execution_count": 42,
   "metadata": {},
   "outputs": [
    {
     "data": {
      "text/plain": [
       "Index(['type', 'fixed_acidity', 'volatile_acidity', 'citric_acid',\n",
       "       'residual_sugar', 'chlorides', 'free_sulfur_dioxide',\n",
       "       'total_sulfur_dioxide', 'density', 'pH', 'sulphates', 'alcohol'],\n",
       "      dtype='object')"
      ]
     },
     "execution_count": 42,
     "metadata": {},
     "output_type": "execute_result"
    }
   ],
   "source": [
    "x_train.columns"
   ]
  },
  {
   "cell_type": "code",
   "execution_count": null,
   "metadata": {},
   "outputs": [],
   "source": []
  }
 ],
 "metadata": {
  "kernelspec": {
   "display_name": "Python 3",
   "language": "python",
   "name": "python3"
  },
  "language_info": {
   "codemirror_mode": {
    "name": "ipython",
    "version": 3
   },
   "file_extension": ".py",
   "mimetype": "text/x-python",
   "name": "python",
   "nbconvert_exporter": "python",
   "pygments_lexer": "ipython3",
   "version": "3.6.7"
  }
 },
 "nbformat": 4,
 "nbformat_minor": 2
}
